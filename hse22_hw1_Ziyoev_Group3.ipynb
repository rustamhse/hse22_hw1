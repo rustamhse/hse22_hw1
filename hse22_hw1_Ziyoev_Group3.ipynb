{
  "nbformat": 4,
  "nbformat_minor": 0,
  "metadata": {
    "colab": {
      "provenance": []
    },
    "kernelspec": {
      "name": "python3",
      "display_name": "Python 3"
    },
    "language_info": {
      "name": "python"
    }
  },
  "cells": [
    {
      "cell_type": "code",
      "source": [
        "import re\n",
        "\n",
        "def get_info(f, output = True):\n",
        "    l = []\n",
        "    num = 0 \n",
        "    max_len = 0\n",
        "    length = 0\n",
        "    t_l = 0\n",
        "    s = 0\n",
        "    max_s = ''\n",
        "    curr_s = ''\n",
        "    \n",
        "    for line in f:\n",
        "        if (line[0] == '>'):\n",
        "            if num != 0:\n",
        "                l.append(length)\n",
        "            num += 1\n",
        "            if length >= max_len:\n",
        "                max_len = length\n",
        "                max_s = curr_s\n",
        "            curr_s = ''\n",
        "            length = 0\n",
        "        else:\n",
        "            curr_s += line.strip()\n",
        "            length += len(line.strip())\n",
        "            t_l += len(line.strip())\n",
        "     \n",
        "    l.sort(reverse = True) \n",
        "    for i in l:\n",
        "        s += i\n",
        "        if s >= t_l / 2:\n",
        "            if output == True:\n",
        "                print(f'Results:\\n\\\n",
        "                Overall quantity: {num},\\n\\\n",
        "                Overall length: {t_l},\\n\\\n",
        "                The longest section: {max_len},\\n\\\n",
        "                N50 mean: {i}\\n')\n",
        "            break\n",
        "    return max_s"
      ],
      "metadata": {
        "id": "fz0jFvdjyMl_"
      },
      "execution_count": 14,
      "outputs": []
    },
    {
      "cell_type": "markdown",
      "source": [
        "Platanus assemble"
      ],
      "metadata": {
        "id": "ga9Tbib3Qg30"
      }
    },
    {
      "cell_type": "code",
      "source": [
        "max_cont = get_info(open('Poil_contig.fa', 'r'))"
      ],
      "metadata": {
        "colab": {
          "base_uri": "https://localhost:8080/"
        },
        "id": "RG76UPQGyPWx",
        "outputId": "ccd2555c-aa0a-47a1-e272-3548e3c1904c"
      },
      "execution_count": 15,
      "outputs": [
        {
          "output_type": "stream",
          "name": "stdout",
          "text": [
            "Results:\n",
            "                Overall quantity: 612,\n",
            "                Overall length: 3925328,\n",
            "                The longest section: 179307,\n",
            "                N50 mean: 47611\n",
            "\n"
          ]
        }
      ]
    },
    {
      "cell_type": "markdown",
      "source": [
        "Platanus scaffold"
      ],
      "metadata": {
        "id": "Sj7KTQF5QhxB"
      }
    },
    {
      "cell_type": "code",
      "source": [
        "max_scaf = get_info(open('Poil_scaffold.fa', 'r'))"
      ],
      "metadata": {
        "colab": {
          "base_uri": "https://localhost:8080/"
        },
        "id": "ZuUCOZ9kQjpS",
        "outputId": "29991415-47d3-4bdb-c213-e44d79d67096"
      },
      "execution_count": 23,
      "outputs": [
        {
          "output_type": "stream",
          "name": "stdout",
          "text": [
            "Results:\n",
            "                Overall quantity: 70,\n",
            "                Overall length: 3876568,\n",
            "                The longest section: 3838373,\n",
            "                N50 mean: 3838373\n",
            "\n"
          ]
        }
      ]
    },
    {
      "cell_type": "code",
      "source": [
        "print(f'Overall gaps length: {max_scaf.count(\"N\")}')\n",
        "max_scaf = re.sub(r'N{2,}', 'N', max_scaf)\n",
        "print(f'Gaps quantity: {max_scaf.count(\"N\")}')"
      ],
      "metadata": {
        "colab": {
          "base_uri": "https://localhost:8080/"
        },
        "id": "DiQeR-WSQqH5",
        "outputId": "ee0a657b-21db-4e3f-f725-0b819caecc43"
      },
      "execution_count": 24,
      "outputs": [
        {
          "output_type": "stream",
          "name": "stdout",
          "text": [
            "Overall gaps length: 6346\n",
            "Gaps quantity: 65\n"
          ]
        }
      ]
    },
    {
      "cell_type": "code",
      "source": [
        "m_s = get_info(open('Poil_gapClosed.fa', 'r'), False)\n",
        "m_s_sub = re.sub(r'N{2,}', 'N', m_s)\n",
        "print(f'Overall sub gaps length: {m_s.count(\"N\")}')\n",
        "print(f'Sub gaps quantity: {m_s_sub.count(\"N\")}')"
      ],
      "metadata": {
        "colab": {
          "base_uri": "https://localhost:8080/"
        },
        "id": "IW-fOwvhRwvx",
        "outputId": "8ca677ad-c947-4aa0-c012-01251db7c8ea"
      },
      "execution_count": 25,
      "outputs": [
        {
          "output_type": "stream",
          "name": "stdout",
          "text": [
            "Overall sub gaps length: 1674\n",
            "Sub gaps quantity: 9\n"
          ]
        }
      ]
    }
  ]
}